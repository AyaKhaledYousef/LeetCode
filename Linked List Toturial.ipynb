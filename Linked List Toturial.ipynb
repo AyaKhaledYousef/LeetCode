{
 "cells": [
  {
   "cell_type": "code",
   "execution_count": 5,
   "id": "0ae3cb14",
   "metadata": {},
   "outputs": [],
   "source": [
    "# initialize Node\n",
    "\n",
    "class Node:\n",
    "    \n",
    "    def __init__(self,data):\n",
    "        \n",
    "        self.data = data\n",
    "        self.next = None\n",
    "        \n",
    "# initialize LinkedList\n",
    "\n",
    "class LinkedList:\n",
    "    \n",
    "    # init Linked \n",
    "    def __init__(self,):\n",
    "        \n",
    "        self.head = None\n",
    "        \n",
    "if __name__ == '__main__':\n",
    "\n",
    "    \n",
    "    llist = LinkedList()\n",
    "    llist.head = Node (3)\n",
    "    \n",
    "    second = Node (5)\n",
    "    third  = Node (4)\n",
    "    \n",
    "    \n",
    "    '''\n",
    "    Three nodes have been created.\n",
    "    We have references to these three blocks as head,\n",
    "    second and third\n",
    "  \n",
    "    llist.head        second              third\n",
    "         |                |                  |\n",
    "         |                |                  |\n",
    "    +----+------+     +----+------+     +----+------+\n",
    "    | 3  | None |     | 5  | None |     |  4 | None |\n",
    "    +----+------+     +----+------+     +----+------+\n",
    "    '''\n",
    "    \n",
    "    llist.head.next = second\n",
    "    \n",
    "    second.next = third\n",
    "    \n",
    "    \n",
    "    '''\n",
    "    Now next of second Node refers to third.  So all three\n",
    "    nodes are linked.\n",
    "  \n",
    "    llist.head        second              third\n",
    "         |                |                  |\n",
    "         |                |                  |\n",
    "    +----+------+     +----+------+     +----+------+\n",
    "    | 3  |  o-------->| 5  |  o-------->|  4 | null |\n",
    "    +----+------+     +----+------+     +----+------+ \n",
    "    '''"
   ]
  },
  {
   "cell_type": "code",
   "execution_count": null,
   "id": "9d87a146",
   "metadata": {},
   "outputs": [],
   "source": []
  }
 ],
 "metadata": {
  "kernelspec": {
   "display_name": "Python 3 (ipykernel)",
   "language": "python",
   "name": "python3"
  },
  "language_info": {
   "codemirror_mode": {
    "name": "ipython",
    "version": 3
   },
   "file_extension": ".py",
   "mimetype": "text/x-python",
   "name": "python",
   "nbconvert_exporter": "python",
   "pygments_lexer": "ipython3",
   "version": "3.10.6"
  }
 },
 "nbformat": 4,
 "nbformat_minor": 5
}
