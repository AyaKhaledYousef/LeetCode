{
 "cells": [
  {
   "cell_type": "markdown",
   "id": "d747b3bb",
   "metadata": {},
   "source": [
    "# Breadth First Search or BFS for a Graph"
   ]
  },
  {
   "cell_type": "code",
   "execution_count": null,
   "id": "996fedcc",
   "metadata": {},
   "outputs": [],
   "source": []
  },
  {
   "cell_type": "code",
   "execution_count": null,
   "id": "bb0d572c",
   "metadata": {},
   "outputs": [],
   "source": []
  },
  {
   "cell_type": "code",
   "execution_count": 4,
   "id": "191bf36d",
   "metadata": {},
   "outputs": [],
   "source": [
    "graph = {\n",
    "        'A': ['B', 'C', 'D'], \n",
    "        'B': ['A', 'D', 'E'], \n",
    "        'C': ['A', 'D'], \n",
    "        'D': ['B', 'C', 'A', 'E'], \n",
    "        'E': ['B', 'D']\n",
    "    }\n",
    "source = 'A'"
   ]
  },
  {
   "cell_type": "code",
   "execution_count": null,
   "id": "ed06662f",
   "metadata": {},
   "outputs": [],
   "source": []
  }
 ],
 "metadata": {
  "kernelspec": {
   "display_name": "Python 3 (ipykernel)",
   "language": "python",
   "name": "python3"
  },
  "language_info": {
   "codemirror_mode": {
    "name": "ipython",
    "version": 3
   },
   "file_extension": ".py",
   "mimetype": "text/x-python",
   "name": "python",
   "nbconvert_exporter": "python",
   "pygments_lexer": "ipython3",
   "version": "3.10.6"
  }
 },
 "nbformat": 4,
 "nbformat_minor": 5
}
